{
 "cells": [
  {
   "cell_type": "code",
   "execution_count": null,
   "id": "ca7f4723-0054-49bb-b56c-cbed2f27b9c8",
   "metadata": {},
   "outputs": [],
   "source": [
    "# Introduction to Python Basics\n",
    "# Welcome to this introductory notebook! Complete the tasks marked as 'TODO' to learn Python fundamentals."
   ]
  },
  {
   "cell_type": "code",
   "execution_count": 5,
   "id": "ff4ab98c-c00f-4393-a31d-db5bb52fe3dc",
   "metadata": {
    "scrolled": true
   },
   "outputs": [
    {
     "name": "stdout",
     "output_type": "stream",
     "text": [
      "Hello, my name is John-Eric  Laangdale. My student id is 11673670. I am 20 years old and 5.834 feet tall.\n"
     ]
    }
   ],
   "source": [
    "# 1. Variables and Data Types\n",
    "# TODO: Change the value of 'name' to your own name and run the cell.\n",
    "name = \"John-Eric  Laangdale\" #Change this to your own name\n",
    "age = 20  # Change this to your age\n",
    "height = 5.834  # Change this to your height in cm (1 foot = 30.48 cm)\n",
    "id= 11673670 #Change this to your real student ID. It is important for grading purposes\n",
    "\n",
    "print(f\"Hello, my name is {name}. My student id is {id}. I am {age} years old and {height} feet tall.\")"
   ]
  },
  {
   "cell_type": "code",
   "execution_count": 6,
   "id": "6de0c004-5ab2-40f5-953d-8853606a4eff",
   "metadata": {},
   "outputs": [
    {
     "name": "stdout",
     "output_type": "stream",
     "text": [
      "Addition: 184\n",
      "Subtraction: 78\n",
      "Height Square: 31684\n",
      "Body Mass Index: 0.0029036737785633126\n"
     ]
    }
   ],
   "source": [
    "# 2. Basic Arithmetic\n",
    "# TODO: Modify the numbers and see the output.\n",
    "w = 92 # Change this to your weight in kg\n",
    "h = 178  # Change this to your height in cm.  (1 inch=2.54 cm)\n",
    "\n",
    "addition = w + w\n",
    "subtraction = h - 100\n",
    "h_sq = h * h\n",
    "bmi = w / h_sq\n",
    "\n",
    "print(\"Addition:\", addition)\n",
    "print(\"Subtraction:\", subtraction)\n",
    "print(\"Height Square:\", h_sq)\n",
    "print(\"Body Mass Index:\", bmi)"
   ]
  },
  {
   "cell_type": "code",
   "execution_count": 7,
   "id": "983656e6-851b-4018-8c07-ff1b43c5d8f4",
   "metadata": {},
   "outputs": [
    {
     "name": "stdout",
     "output_type": "stream",
     "text": [
      "Updated fruits list: ['apple', 'banana', 'cherry', 'strawberry']\n"
     ]
    }
   ],
   "source": [
    "# 3. Lists\n",
    "# TODO: Add one more fruit to the list.\n",
    "fruits = [\"apple\", \"banana\", \"cherry\"]\n",
    "fruits.append(\"strawberry\")  # Add your favorite fruit here\n",
    "\n",
    "print(\"Updated fruits list:\", fruits)\n"
   ]
  },
  {
   "cell_type": "code",
   "execution_count": 8,
   "id": "e4d8f4a6-d783-4dee-87ed-e94fb7c94bef",
   "metadata": {},
   "outputs": [
    {
     "name": "stdout",
     "output_type": "stream",
     "text": [
      "APPLE\n",
      "BANANA\n",
      "CHERRY\n",
      "STRAWBERRY\n"
     ]
    }
   ],
   "source": [
    "# 4. Loops\n",
    "# TODO: Use a loop to print each fruit in uppercase.\n",
    "for fruit in fruits:\n",
    "    print(fruit.upper())"
   ]
  },
  {
   "cell_type": "code",
   "execution_count": 9,
   "id": "bb6dc6e7-5508-426f-9e2b-7c843c68ec74",
   "metadata": {},
   "outputs": [
    {
     "name": "stdout",
     "output_type": "stream",
     "text": [
      "Hello, John-Eric  Laangdale!\n"
     ]
    },
    {
     "ename": "NameError",
     "evalue": "name '____' is not defined",
     "output_type": "error",
     "traceback": [
      "\u001b[1;31m---------------------------------------------------------------------------\u001b[0m",
      "\u001b[1;31mNameError\u001b[0m                                 Traceback (most recent call last)",
      "Cell \u001b[1;32mIn[9], line 10\u001b[0m\n\u001b[0;32m      7\u001b[0m     \u001b[38;5;28;01mreturn\u001b[39;00m number \u001b[38;5;241m*\u001b[39m\u001b[38;5;241m*\u001b[39m ____  \u001b[38;5;66;03m# Replace this \"____\" with your implementation. What number should we put here?\u001b[39;00m\n\u001b[0;32m      9\u001b[0m \u001b[38;5;28mprint\u001b[39m(greet(name))\n\u001b[1;32m---> 10\u001b[0m \u001b[38;5;28mprint\u001b[39m(\u001b[38;5;124m\"\u001b[39m\u001b[38;5;124mSquare of your age is:\u001b[39m\u001b[38;5;124m\"\u001b[39m, \u001b[43msquare\u001b[49m\u001b[43m(\u001b[49m\u001b[43mage\u001b[49m\u001b[43m)\u001b[49m)\n",
      "Cell \u001b[1;32mIn[9], line 7\u001b[0m, in \u001b[0;36msquare\u001b[1;34m(number)\u001b[0m\n\u001b[0;32m      6\u001b[0m \u001b[38;5;28;01mdef\u001b[39;00m \u001b[38;5;21msquare\u001b[39m(number):\n\u001b[1;32m----> 7\u001b[0m     \u001b[38;5;28;01mreturn\u001b[39;00m number \u001b[38;5;241m*\u001b[39m\u001b[38;5;241m*\u001b[39m \u001b[43m____\u001b[49m\n",
      "\u001b[1;31mNameError\u001b[0m: name '____' is not defined"
     ]
    }
   ],
   "source": [
    "# 5. Functions\n",
    "# TODO: Create a new function that returns the square of a number.\n",
    "def greet(name):\n",
    "    return f\"Hello, {name}!\"\n",
    "\n",
    "def square(number):\n",
    "    return number ** ____  # Replace this \"____\" with your implementation. What number should we put here?\n",
    "\n",
    "print(greet(name))\n",
    "print(\"Square of your age is:\", square(age))"
   ]
  },
  {
   "cell_type": "code",
   "execution_count": null,
   "id": "988c614b-b7f2-404c-a8c5-f4c1ff5b0b8a",
   "metadata": {},
   "outputs": [],
   "source": [
    "# 6. Dictionaries\n",
    "# TODO: Add a new key-value pair for 'grade'.\n",
    "student_info = {\n",
    "    \"name\": name,\n",
    "    \"age\": age,\n",
    "    \"major\": \"Computer Science\"\n",
    "}\n",
    "student_info[\"grade\"] = \"A\"  # Add grade here\n",
    "\n",
    "print(\"Student Info:\", student_info)"
   ]
  },
  {
   "cell_type": "code",
   "execution_count": null,
   "id": "9abede9d-8894-45d5-a4f5-e51bc4b4e5a1",
   "metadata": {},
   "outputs": [],
   "source": [
    "# 7. Libraries\n",
    "# TODO: Use numpy to create an array and perform an operation on it.\n",
    "import numpy as np\n",
    "\n",
    "array = np.array([1, 2, 3, 4, 5])\n",
    "array_squared = array ** 2\n",
    "\n",
    "print(\"Original Array:\", array)\n",
    "print(\"Squared Array:\", array_squared)"
   ]
  },
  {
   "cell_type": "code",
   "execution_count": null,
   "id": "94d140e7-0712-4c74-b452-86a890d6e451",
   "metadata": {},
   "outputs": [],
   "source": []
  }
 ],
 "metadata": {
  "kernelspec": {
   "display_name": "unt",
   "language": "python",
   "name": "python3"
  },
  "language_info": {
   "codemirror_mode": {
    "name": "ipython",
    "version": 3
   },
   "file_extension": ".py",
   "mimetype": "text/x-python",
   "name": "python",
   "nbconvert_exporter": "python",
   "pygments_lexer": "ipython3",
   "version": "3.12.8"
  }
 },
 "nbformat": 4,
 "nbformat_minor": 5
}
