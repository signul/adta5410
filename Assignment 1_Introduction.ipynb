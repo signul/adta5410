{
  "cells": [
    {
      "cell_type": "markdown",
      "metadata": {
        "id": "view-in-github",
        "colab_type": "text"
      },
      "source": [
        "<a href=\"https://colab.research.google.com/github/signul/adta5410/blob/main/Assignment%201_Introduction.ipynb\" target=\"_parent\"><img src=\"https://colab.research.google.com/assets/colab-badge.svg\" alt=\"Open In Colab\"/></a>"
      ]
    },
    {
      "cell_type": "code",
      "execution_count": 1,
      "id": "ca7f4723-0054-49bb-b56c-cbed2f27b9c8",
      "metadata": {
        "id": "ca7f4723-0054-49bb-b56c-cbed2f27b9c8"
      },
      "outputs": [],
      "source": [
        "# Introduction to Python Basics\n",
        "# Welcome to this introductory notebook! Complete the tasks marked as 'TODO' to learn Python fundamentals."
      ]
    },
    {
      "cell_type": "code",
      "execution_count": 2,
      "id": "ff4ab98c-c00f-4393-a31d-db5bb52fe3dc",
      "metadata": {
        "scrolled": true,
        "id": "ff4ab98c-c00f-4393-a31d-db5bb52fe3dc",
        "outputId": "37ec9bf7-32b6-4644-a5cf-78074423be02",
        "colab": {
          "base_uri": "https://localhost:8080/"
        }
      },
      "outputs": [
        {
          "output_type": "stream",
          "name": "stdout",
          "text": [
            "Hello, my name is John-Eric  Laangdale. My student id is 11673670. I am 20 years old and 5.834 feet tall.\n"
          ]
        }
      ],
      "source": [
        "# 1. Variables and Data Types\n",
        "# TODO: Change the value of 'name' to your own name and run the cell.\n",
        "name = \"John-Eric  Laangdale\" #Change this to your own name\n",
        "age = 20  # Change this to your age\n",
        "height = 5.834  # Change this to your height in cm (1 foot = 30.48 cm)\n",
        "id= 11673670 #Change this to your real student ID. It is important for grading purposes\n",
        "\n",
        "print(f\"Hello, my name is {name}. My student id is {id}. I am {age} years old and {height} feet tall.\")"
      ]
    },
    {
      "cell_type": "code",
      "execution_count": 3,
      "id": "6de0c004-5ab2-40f5-953d-8853606a4eff",
      "metadata": {
        "id": "6de0c004-5ab2-40f5-953d-8853606a4eff",
        "outputId": "fc352ab7-e968-4922-9fd0-8d83902b6225",
        "colab": {
          "base_uri": "https://localhost:8080/"
        }
      },
      "outputs": [
        {
          "output_type": "stream",
          "name": "stdout",
          "text": [
            "Addition: 184\n",
            "Subtraction: 78\n",
            "Height Square: 31684\n",
            "Body Mass Index: 0.0029036737785633126\n"
          ]
        }
      ],
      "source": [
        "# 2. Basic Arithmetic\n",
        "# TODO: Modify the numbers and see the output.\n",
        "w = 92 # Change this to your weight in kg\n",
        "h = 178  # Change this to your height in cm.  (1 inch=2.54 cm)\n",
        "\n",
        "addition = w + w\n",
        "subtraction = h - 100\n",
        "h_sq = h * h\n",
        "bmi = w / h_sq\n",
        "\n",
        "print(\"Addition:\", addition)\n",
        "print(\"Subtraction:\", subtraction)\n",
        "print(\"Height Square:\", h_sq)\n",
        "print(\"Body Mass Index:\", bmi)"
      ]
    },
    {
      "cell_type": "code",
      "execution_count": 4,
      "id": "983656e6-851b-4018-8c07-ff1b43c5d8f4",
      "metadata": {
        "id": "983656e6-851b-4018-8c07-ff1b43c5d8f4",
        "outputId": "f946f452-e78d-48c5-a333-ff8a4462c9b4",
        "colab": {
          "base_uri": "https://localhost:8080/"
        }
      },
      "outputs": [
        {
          "output_type": "stream",
          "name": "stdout",
          "text": [
            "Updated fruits list: ['apple', 'banana', 'cherry', 'strawberry']\n"
          ]
        }
      ],
      "source": [
        "# 3. Lists\n",
        "# TODO: Add one more fruit to the list.\n",
        "fruits = [\"apple\", \"banana\", \"cherry\"]\n",
        "fruits.append(\"strawberry\")  # Add your favorite fruit here\n",
        "\n",
        "print(\"Updated fruits list:\", fruits)\n"
      ]
    },
    {
      "cell_type": "code",
      "execution_count": 5,
      "id": "e4d8f4a6-d783-4dee-87ed-e94fb7c94bef",
      "metadata": {
        "id": "e4d8f4a6-d783-4dee-87ed-e94fb7c94bef",
        "outputId": "03ec51dc-7d47-4b40-82a9-7fd4e05359ee",
        "colab": {
          "base_uri": "https://localhost:8080/"
        }
      },
      "outputs": [
        {
          "output_type": "stream",
          "name": "stdout",
          "text": [
            "APPLE\n",
            "BANANA\n",
            "CHERRY\n",
            "STRAWBERRY\n"
          ]
        }
      ],
      "source": [
        "# 4. Loops\n",
        "# TODO: Use a loop to print each fruit in uppercase.\n",
        "for fruit in fruits:\n",
        "    print(fruit.upper())"
      ]
    },
    {
      "cell_type": "code",
      "execution_count": 8,
      "id": "bb6dc6e7-5508-426f-9e2b-7c843c68ec74",
      "metadata": {
        "id": "bb6dc6e7-5508-426f-9e2b-7c843c68ec74",
        "outputId": "c11ad36e-594b-4116-96c9-6ba5998c0b8a",
        "colab": {
          "base_uri": "https://localhost:8080/"
        }
      },
      "outputs": [
        {
          "output_type": "stream",
          "name": "stdout",
          "text": [
            "Hello, John-Eric  Laangdale!\n",
            "Square of your age is: 400\n"
          ]
        }
      ],
      "source": [
        "# 5. Functions\n",
        "# TODO: Create a new function that returns the square of a number.\n",
        "def greet(name):\n",
        "    return f\"Hello, {name}!\"\n",
        "\n",
        "def square(number):\n",
        "    return number ** 2  # Replace this \"____\" with your implementation. What number should we put here?\n",
        "\n",
        "print(greet(name))\n",
        "print(\"Square of your age is:\", square(age))"
      ]
    },
    {
      "cell_type": "code",
      "execution_count": 9,
      "id": "988c614b-b7f2-404c-a8c5-f4c1ff5b0b8a",
      "metadata": {
        "id": "988c614b-b7f2-404c-a8c5-f4c1ff5b0b8a",
        "outputId": "6ecbebf2-dfdf-47fe-f3bc-e37908c5912a",
        "colab": {
          "base_uri": "https://localhost:8080/"
        }
      },
      "outputs": [
        {
          "output_type": "stream",
          "name": "stdout",
          "text": [
            "Student Info: {'name': 'John-Eric  Laangdale', 'age': 20, 'major': 'Computer Science', 'grade': 'A'}\n"
          ]
        }
      ],
      "source": [
        "# 6. Dictionaries\n",
        "# TODO: Add a new key-value pair for 'grade'.\n",
        "student_info = {\n",
        "    \"name\": name,\n",
        "    \"age\": age,\n",
        "    \"major\": \"Computer Science\"\n",
        "}\n",
        "student_info[\"grade\"] = \"A\"  # Add grade here\n",
        "\n",
        "print(\"Student Info:\", student_info)"
      ]
    },
    {
      "cell_type": "code",
      "execution_count": 10,
      "id": "9abede9d-8894-45d5-a4f5-e51bc4b4e5a1",
      "metadata": {
        "id": "9abede9d-8894-45d5-a4f5-e51bc4b4e5a1",
        "outputId": "bd6eae50-562b-4495-d550-5c669d2fc36f",
        "colab": {
          "base_uri": "https://localhost:8080/"
        }
      },
      "outputs": [
        {
          "output_type": "stream",
          "name": "stdout",
          "text": [
            "Original Array: [1 2 3 4 5]\n",
            "Squared Array: [ 1  4  9 16 25]\n"
          ]
        }
      ],
      "source": [
        "# 7. Libraries\n",
        "# TODO: Use numpy to create an array and perform an operation on it.\n",
        "import numpy as np\n",
        "\n",
        "array = np.array([1, 2, 3, 4, 5])\n",
        "array_squared = array ** 2\n",
        "\n",
        "print(\"Original Array:\", array)\n",
        "print(\"Squared Array:\", array_squared)"
      ]
    },
    {
      "cell_type": "code",
      "execution_count": null,
      "id": "94d140e7-0712-4c74-b452-86a890d6e451",
      "metadata": {
        "id": "94d140e7-0712-4c74-b452-86a890d6e451"
      },
      "outputs": [],
      "source": []
    }
  ],
  "metadata": {
    "kernelspec": {
      "display_name": "unt",
      "language": "python",
      "name": "python3"
    },
    "language_info": {
      "codemirror_mode": {
        "name": "ipython",
        "version": 3
      },
      "file_extension": ".py",
      "mimetype": "text/x-python",
      "name": "python",
      "nbconvert_exporter": "python",
      "pygments_lexer": "ipython3",
      "version": "3.12.8"
    },
    "colab": {
      "provenance": [],
      "include_colab_link": true
    }
  },
  "nbformat": 4,
  "nbformat_minor": 5
}